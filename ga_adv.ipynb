{
 "cells": [
  {
   "cell_type": "code",
   "execution_count": 123,
   "metadata": {},
   "outputs": [],
   "source": [
    "import torch as pt\n",
    "import torchvision as tv\n",
    "import os\n",
    "import numpy as np\n",
    "import tqdm\n",
    "import matplotlib.pyplot as plt"
   ]
  },
  {
   "cell_type": "code",
   "execution_count": 124,
   "metadata": {},
   "outputs": [],
   "source": [
    "data = np.load('full_mnist.npz')\n",
    "X, y = data['X'], data['y']"
   ]
  },
  {
   "cell_type": "code",
   "execution_count": 125,
   "metadata": {},
   "outputs": [
    {
     "data": {
      "image/png": "[encoded data removed]",
      "text/plain": [
       "<Figure size 432x288 with 1 Axes>"
      ]
     },
     "metadata": {
      "needs_background": "light"
     },
     "output_type": "display_data"
    }
   ],
   "source": [
    "plt.imshow(X[0]);"
   ]
  },
  {
   "cell_type": "code",
   "execution_count": 126,
   "metadata": {},
   "outputs": [],
   "source": [
    "class CNN(pt.nn.Module):\n",
    "    def __init__(self):\n",
    "        super().__init__()\n",
    "        self.model = pt.nn.Sequential(\n",
    "        pt.nn.Conv2d(1, 30, 3),\n",
    "        pt.nn.MaxPool2d(2),\n",
    "        pt.nn.ReLU(),\n",
    "        pt.nn.Conv2d(30, 30, 3),\n",
    "        pt.nn.MaxPool2d(2),\n",
    "        pt.nn.ReLU(),\n",
    "        pt.nn.Conv2d(30, 15, 3),\n",
    "        pt.nn.MaxPool2d(2),\n",
    "        pt.nn.ReLU(),\n",
    "        pt.nn.Flatten(),\n",
    "        pt.nn.Linear(15, 64),\n",
    "        pt.nn.ReLU(),\n",
    "        pt.nn.Linear(64, 10),\n",
    "        pt.nn.Softmax()\n",
    "        )\n",
    "    \n",
    "    def predict(self, X):\n",
    "        return self.model(X)\n",
    "\n",
    "\n",
    "model = CNN()\n",
    "optim = pt.optim.Adam(model.parameters())\n",
    "loss = pt.nn.CrossEntropyLoss()"
   ]
  },
  {
   "cell_type": "code",
   "execution_count": 133,
   "metadata": {},
   "outputs": [],
   "source": [
    "X_correct = pt.Tensor(X).unsqueeze(1)"
   ]
  },
  {
   "cell_type": "code",
   "execution_count": 127,
   "metadata": {},
   "outputs": [],
   "source": [
    "y_correct_dtype = pt.Tensor(y).long()"
   ]
  },
  {
   "cell_type": "code",
   "execution_count": 128,
   "metadata": {},
   "outputs": [],
   "source": [
    "data_loader = pt.utils.data.DataLoader(pt.utils.data.TensorDataset(pt.Tensor(X).unsqueeze(1), y_correct_dtype), batch_size=32)"
   ]
  },
  {
   "cell_type": "code",
   "execution_count": 130,
   "metadata": {},
   "outputs": [
    {
     "name": "stderr",
     "output_type": "stream",
     "text": [
      "100%|██████████| 1875/1875 [00:34<00:00, 54.06it/s]\n"
     ]
    }
   ],
   "source": [
    "\n",
    "for Xt, yt in tqdm.tqdm(data_loader):\n",
    "    optim.zero_grad()\n",
    "    yp = model.predict(Xt)\n",
    "    L = loss(yp, yt.long())\n",
    "    L.backward()\n",
    "    optim.step()"
   ]
  },
  {
   "cell_type": "code",
   "execution_count": 144,
   "metadata": {},
   "outputs": [
    {
     "name": "stderr",
     "output_type": "stream",
     "text": [
      "/Volumes/Storage/goinfre/ptyshevs/env/lib/python3.7/site-packages/torch/nn/modules/container.py:92: UserWarning: Implicit dimension choice for softmax has been deprecated. Change the call to include dim=X as an argument.\n",
      "  input = module(input)\n"
     ]
    },
    {
     "data": {
      "image/png": "[encoded data removed]",
      "text/plain": [
       "<Figure size 432x288 with 1 Axes>"
      ]
     },
     "metadata": {
      "needs_background": "light"
     },
     "output_type": "display_data"
    },
    {
     "data": {
      "image/png": "[encoded data removed]",
      "text/plain": [
       "<Figure size 432x288 with 1 Axes>"
      ]
     },
     "metadata": {
      "needs_background": "light"
     },
     "output_type": "display_data"
    },
    {
     "data": {
      "image/png": "[encoded data removed]",
      "text/plain": [
       "<Figure size 432x288 with 1 Axes>"
      ]
     },
     "metadata": {
      "needs_background": "light"
     },
     "output_type": "display_data"
    }
   ],
   "source": [
    "top_n = 3\n",
    "first_ten_y_pred = model.predict(X_correct[:top_n]).argmax(1)\n",
    "for i in range(top_n):\n",
    "    x = X_correct[i].squeeze()\n",
    "    plt.imshow(x)\n",
    "    plt.title(f'Predicted class: {first_ten_y_pred[i]}');\n",
    "    plt.show()"
   ]
  },
  {
   "cell_type": "code",
   "execution_count": 145,
   "metadata": {},
   "outputs": [],
   "source": [
    "adv_target = 0"
   ]
  },
  {
   "cell_type": "code",
   "execution_count": 172,
   "metadata": {},
   "outputs": [],
   "source": [
    "def fitness(X):\n",
    "    \"\"\" X - np.array\"\"\"\n",
    "    y = model.predict(pt.Tensor(X).unsqueeze(0).unsqueeze(1))\n",
    "    return y[:, adv_target].mean().item()"
   ]
  },
  {
   "cell_type": "code",
   "execution_count": 185,
   "metadata": {},
   "outputs": [],
   "source": [
    "class GeneticSolver:\n",
    "    def __init__(self, population_size=30, n_generations=1000, retain_best=0.8, retain_random=0.05, mutate_chance=0.05,\n",
    "                 verbosity=0, verbosity_step=50, random_state=-1, warm_start=False, early_stopping=True, patience=20,\n",
    "                 initialization_strategy='uniform', fitness_parallel=False):\n",
    "        \"\"\"\n",
    "        :param population_size: number of individual candidate solutions\n",
    "        :param n_generations: number of generations\n",
    "        :param retain_best: percentage of best candidates to select into the next generation\n",
    "        :param retain_random: probability of selecting sub-optimal candidate into the next generation\n",
    "        :param mutate_chance: candidate mutation chance\n",
    "        :param verbosity: level of verbosity (0 - quiet, 1 - evolution information, 2 - spamming like it's 2003)\n",
    "        :param verbosity_step: number of generations to process before showing the best score\n",
    "        :param random_state: if specified, initializes seed with this value\n",
    "        :param warm_start: if True, initial population generation step is omitted, allowing for continuing training\n",
    "        :param early_stopping: if True, evolution will stop if top-10 candidates are not changing for several generations\n",
    "        :param patience: number of generations to wait for best solution change when <early_stopping>\n",
    "        :param initialization_strategy: initial population generation rule: 'uniform' or 'covering'\n",
    "        :param fitness_parallel: if True, scoring is performed on multiple cores, greatly improving the performance.\n",
    "                                 Don't use with MPGeneticSolver! (results in deadlock)\n",
    "        \"\"\"\n",
    "        self.population_size = population_size\n",
    "        self.n_generations = n_generations\n",
    "        self.retain_best = retain_best\n",
    "        self.retain_random = retain_random\n",
    "        self.mutate_chance = mutate_chance\n",
    "        self.verbosity = verbosity\n",
    "        self.verbosity_step = verbosity_step\n",
    "        self.random_state = random_state\n",
    "        self.warm_start = warm_start\n",
    "        self.early_stopping = early_stopping\n",
    "        self.patience = patience\n",
    "        self.initialization_strategy = initialization_strategy\n",
    "        self.fitness_parallel = fitness_parallel\n",
    "        if fitness_parallel:\n",
    "            self.pool = mp.Pool(mp.cpu_count())\n",
    "        else:\n",
    "            self.pool = None\n",
    "\n",
    "        self._population = None\n",
    "        if random_state != -1:\n",
    "            np.random.seed(random_state)\n",
    "\n",
    "    def solve(self, n_generations=-1):\n",
    "        \"\"\"\n",
    "        :param Y: 20x20 array that represents field in stopping condition\n",
    "        :param delta: number of steps to revert\n",
    "        :param n_generations: number of evolution generations. Overrides initialization value if specified\n",
    "        :return: 20x20 array that represents the best start field found and associated fitness value\n",
    "        \"\"\"\n",
    "        if not (self._population and self.warm_start):\n",
    "            self._population = self._generate_population()\n",
    "        if n_generations != -1:\n",
    "            self.n_generations = n_generations\n",
    "        scores = np.zeros(len(self._population))\n",
    "        prev_scores = np.zeros(len(self._population))\n",
    "        cnt_no_change_in_scores = 0\n",
    "        for generation in range(self.n_generations):\n",
    "            self._population, scores = self.evolve()\n",
    "            if np.isclose(prev_scores[:10], scores[:10]).all():\n",
    "                cnt_no_change_in_scores += 1\n",
    "            else:\n",
    "                cnt_no_change_in_scores = 0\n",
    "                prev_scores = scores\n",
    "            if self.verbosity and generation % self.verbosity_step == 0:\n",
    "                if generation == 0:\n",
    "                    print(\"Generation #: best score\")\n",
    "                else:\n",
    "                    print(\"Generation \",generation,\": \",scores[0])\n",
    "            if np.isclose(scores[:10], 1).any() or (self.early_stopping and cnt_no_change_in_scores >= self.patience):\n",
    "                if self.verbosity:\n",
    "                    print(\"Early stopping on generation \",generation, \" with best score \", scores[0])\n",
    "                break\n",
    "        return self._population[0], scores[0]\n",
    "\n",
    "    def _generate_population(self):\n",
    "        \"\"\"\n",
    "        Generating initial population of individual solutions\n",
    "        Regardless of strategy, we make 5 initial \"warming\" steps to make distribution closer to the problem.\n",
    "        Strategies description:\n",
    "            * Uniform: each cell has equal probability of being initialized as alive or dead. This will introduce no\n",
    "                       prior information at all\n",
    "            * Covering: Each individual is generated with it's own probability of having each cell 'alive'. This gives\n",
    "                       on average higher initial fitness score, but has no observed effect on long-term behavior\n",
    "        :return: initial population as a list of 20x20 arrays\n",
    "        \"\"\"\n",
    "        if type(self.initialization_strategy) is str:\n",
    "            if self.initialization_strategy == 'uniform':\n",
    "                initial_states = np.random.randint(0, 255, size=(self.population_size, 28, 28))\n",
    "                return initial_states\n",
    "\n",
    "    def evolve(self):\n",
    "        \"\"\"\n",
    "        Evolution step\n",
    "        :param Y: 20x20 array that represents field in stopping condition\n",
    "        :param delta: number of steps to revert\n",
    "        :return: new generation of the same size along with scores of the best retained individuals\n",
    "        \"\"\"\n",
    "        if self.fitness_parallel:\n",
    "          scores = np.array(self.parallel_score_population(self._population))\n",
    "        else:\n",
    "          scores = np.array(self.score_population(self._population))\n",
    "        retain_len = int(len(scores) * self.retain_best)\n",
    "        sorted_indices = np.argsort(scores)[::-1]\n",
    "        self._population = [self._population[idx] for idx in sorted_indices]\n",
    "        best_scores = scores[sorted_indices][:retain_len]\n",
    "        if self.verbosity > 1:\n",
    "            print(\"best scores:\", best_scores)\n",
    "        parents = self._population[:retain_len]\n",
    "        leftovers = self._population[retain_len:]\n",
    "\n",
    "        cnt_degenerate = 0\n",
    "        for gene in leftovers:\n",
    "            if np.random.rand() < self.retain_random:\n",
    "                cnt_degenerate += 1\n",
    "                parents.append(gene)\n",
    "        if self.verbosity > 1:\n",
    "            print(\"# of degenerates left: \", cnt_degenerate)\n",
    "\n",
    "        cnt_mutations = 0\n",
    "        for gene in parents[1:]:  # mutate everyone expecting for the best candidate\n",
    "            if np.random.rand() < self.mutate_chance:\n",
    "                self.mutate(gene)\n",
    "                cnt_mutations += 1\n",
    "        if self.verbosity > 1:\n",
    "            print(\"# of mutations: \", cnt_mutations)\n",
    "\n",
    "        places_left = self.population_size - retain_len\n",
    "        children = []\n",
    "        while len(children) < places_left:\n",
    "            mom_idx, dad_idx = np.random.randint(0, retain_len - 1, 2)\n",
    "            if mom_idx != dad_idx:\n",
    "                child1, child2 = self.crossover(parents[mom_idx], parents[dad_idx])\n",
    "                children.append(child1)\n",
    "                if len(children) < places_left:\n",
    "                    children.append(child2)\n",
    "        if self.verbosity > 1:\n",
    "            print(\"# of children: \", len(children))\n",
    "        parents.extend(children)\n",
    "        return parents, best_scores\n",
    "\n",
    "    @classmethod\n",
    "    def crossover(cls, mom, dad):\n",
    "        \"\"\"\n",
    "        Take two parents, return two children, interchanging half of the allels of each parent randomly\n",
    "        \"\"\"\n",
    "        # select_mask = np.random.randint(0, 2, size=(20, 20), dtype='bool')\n",
    "        select_mask = np.random.binomial(1, 0.5, size=(28, 28)).astype('bool')\n",
    "        child1, child2 = np.copy(mom), np.copy(dad)\n",
    "        child1[select_mask] = dad[select_mask]\n",
    "        child2[select_mask] = mom[select_mask]\n",
    "        return child1, child2\n",
    "\n",
    "    @classmethod\n",
    "    def mutate(cls, field):\n",
    "        \"\"\"\n",
    "        Inplace mutation of the provided field\n",
    "        \"\"\"\n",
    "        a = np.random.binomial(1, 0.1, size=(28, 28)).astype('bool')\n",
    "        field[a] = np.clip(field[a] + np.random.randn(*field[a].shape), 0, 255)\n",
    "        return field\n",
    "\n",
    "    @classmethod\n",
    "    def fitness(cls, start_field, end_field, delta):\n",
    "        \"\"\"\n",
    "        Calculate fitness for particular candidate (start configuration of the field)\n",
    "        Currently unused, as fitness scoring was implemented directly into Cython `life` module.\n",
    "        :param start_field: candidate (start configuration)\n",
    "        :param end_field: target (stop configuration)\n",
    "        :param delta: number of steps to proceed before comparing to stop configuration\n",
    "        :return: value in range [0, 1] that indicates fractions of cells that match their state\n",
    "        \"\"\"\n",
    "        candidate = life.make_move(start_field, moves=delta)\n",
    "        return (candidate == end_field).sum() / 400\n",
    "\n",
    "      \n",
    "    @classmethod\n",
    "    def score_population(cls, population):\n",
    "        \"\"\"\n",
    "        Apply fitness function for each gene in a population\n",
    "        :param population: list of candidate solutions\n",
    "        :param Y: 20x20 array that represents field in stopping condition\n",
    "        :param delta: number of steps to revert\n",
    "        :return: list of scores for each solution\n",
    "        \"\"\"\n",
    "        return [fitness(gene) for gene in population]\n",
    "\n",
    "    def parallel_score_population(self, population):\n",
    "        \"\"\"\n",
    "        Apply fitness function for each gene in a population in parallel\n",
    "        :param population: list of candidate solutions\n",
    "        :param Y: 20x20 array that represents field in stopping condition\n",
    "        :param delta: number of steps to revert\n",
    "        :return: list of scores for each solution\n",
    "        \"\"\"\n",
    "        return self.pool.map(partial(parallel_fitness), population)"
   ]
  },
  {
   "cell_type": "code",
   "execution_count": 186,
   "metadata": {},
   "outputs": [],
   "source": [
    "m = GeneticSolver(verbosity=True, verbosity_step=1)"
   ]
  },
  {
   "cell_type": "code",
   "execution_count": 193,
   "metadata": {},
   "outputs": [
    {
     "name": "stdout",
     "output_type": "stream",
     "text": [
      "Generation #: best score\n",
      "Generation  1 :  0.9999862909317017\n",
      "Generation  2 :  0.9999982118606567\n",
      "Early stopping on generation  2  with best score  0.9999982118606567\n"
     ]
    }
   ],
   "source": [
    "res, score = m.solve()"
   ]
  },
  {
   "cell_type": "code",
   "execution_count": 199,
   "metadata": {},
   "outputs": [],
   "source": [
    "y_pred = model.predict(pt.Tensor(res).unsqueeze(0).unsqueeze(1))"
   ]
  },
  {
   "cell_type": "code",
   "execution_count": 210,
   "metadata": {},
   "outputs": [
    {
     "data": {
      "text/plain": [
       "tensor([[1.0000e+00, 4.5259e-09, 8.4924e-07, 7.8678e-14, 2.6959e-07, 1.1620e-09,\n",
       "         6.9939e-07, 3.6926e-08, 1.8043e-09, 1.4398e-10]],\n",
       "       grad_fn=<SoftmaxBackward>)"
      ]
     },
     "execution_count": 210,
     "metadata": {},
     "output_type": "execute_result"
    }
   ],
   "source": [
    "y_pred"
   ]
  },
  {
   "cell_type": "code",
   "execution_count": 204,
   "metadata": {},
   "outputs": [],
   "source": [
    "zero_prob = y_pred[0][0].item()"
   ]
  },
  {
   "cell_type": "code",
   "execution_count": 209,
   "metadata": {},
   "outputs": [
    {
     "data": {
      "image/png": "[encoded data removed]",
      "text/plain": [
       "<Figure size 432x288 with 1 Axes>"
      ]
     },
     "metadata": {
      "needs_background": "light"
     },
     "output_type": "display_data"
    }
   ],
   "source": [
    "plt.imshow(res);\n",
    "plt.title(f\"Probability of being zero = {zero_prob:.4f}\");"
   ]
  }
 ],
 "metadata": {
  "kernelspec": {
   "display_name": "Python 3",
   "language": "python",
   "name": "python3"
  },
  "language_info": {
   "codemirror_mode": {
    "name": "ipython",
    "version": 3
   },
   "file_extension": ".py",
   "mimetype": "text/x-python",
   "name": "python",
   "nbconvert_exporter": "python",
   "pygments_lexer": "ipython3",
   "version": "3.7.4"
  }
 },
 "nbformat": 4,
 "nbformat_minor": 4
}
