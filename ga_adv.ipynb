{
 "cells": [
  {
   "cell_type": "code",
   "execution_count": 1,
   "metadata": {},
   "outputs": [],
   "source": [
    "import torch as pt\n",
    "import torchvision as tv\n",
    "import os\n",
    "import numpy as np\n",
    "import tqdm\n",
    "import matplotlib.pyplot as plt\n",
    "from sklearn.model_selection import train_test_split\n",
    "from GeneticSolver import *\n",
    "from ImageGeneticSolver import *\n",
    "import imageio"
   ]
  },
  {
   "cell_type": "code",
   "execution_count": 2,
   "metadata": {},
   "outputs": [],
   "source": [
    "data = np.load('mnist.npz')\n",
    "X, y = data['X'], data['y']\n",
    "X_train, X_test, y_train, y_test = train_test_split(X / 255., y, test_size=.2, random_state=42)"
   ]
  },
  {
   "cell_type": "code",
   "execution_count": 3,
   "metadata": {},
   "outputs": [],
   "source": [
    "image_size = X[0].shape"
   ]
  },
  {
   "cell_type": "code",
   "execution_count": 131,
   "metadata": {},
   "outputs": [
    {
     "data": {
      "image/png": "[encoded data removed]",
      "text/plain": [
       "<Figure size 432x432 with 1 Axes>"
      ]
     },
     "metadata": {
      "needs_background": "light"
     },
     "output_type": "display_data"
    }
   ],
   "source": [
    "plt.figure(figsize=(6, 6));\n",
    "plt.imshow(X[0], cmap=plt.cm.Greys_r);\n",
    "plt.axis('off');\n",
    "plt.title(\"Data example\");"
   ]
  },
  {
   "cell_type": "code",
   "execution_count": 5,
   "metadata": {},
   "outputs": [],
   "source": [
    "class CNN(pt.nn.Module):\n",
    "    def __init__(self):\n",
    "        super().__init__()\n",
    "        self.model = pt.nn.Sequential(\n",
    "        pt.nn.Conv2d(1, 30, 3),\n",
    "        pt.nn.MaxPool2d(2),\n",
    "        pt.nn.ReLU(),\n",
    "        pt.nn.Conv2d(30, 30, 3),\n",
    "        pt.nn.MaxPool2d(2),\n",
    "        pt.nn.ReLU(),\n",
    "        pt.nn.Conv2d(30, 15, 3),\n",
    "        pt.nn.MaxPool2d(2),\n",
    "        pt.nn.ReLU(),\n",
    "        pt.nn.Flatten(),\n",
    "        pt.nn.Linear(15, 64),\n",
    "        pt.nn.ReLU(),\n",
    "        pt.nn.Linear(64, 10),\n",
    "        pt.nn.Softmax()\n",
    "        )\n",
    "    \n",
    "    def predict(self, X):\n",
    "        return self.model(X)\n",
    "\n",
    "\n",
    "model = CNN()\n",
    "optim = pt.optim.Adam(model.parameters())\n",
    "loss = pt.nn.CrossEntropyLoss()"
   ]
  },
  {
   "cell_type": "code",
   "execution_count": 6,
   "metadata": {},
   "outputs": [],
   "source": [
    "X_train = pt.Tensor(X_train).unsqueeze(1)\n",
    "y_train = pt.Tensor(y_train).long()\n",
    "X_test = pt.Tensor(X_test).unsqueeze(1)\n",
    "y_test = pt.Tensor(y_test).long()\n",
    "train_loader = pt.utils.data.DataLoader(pt.utils.data.TensorDataset(X_train, y_train), batch_size=32)\n",
    "test_loader = pt.utils.data.DataLoader(pt.utils.data.TensorDataset(X_test, y_test), batch_size=32)"
   ]
  },
  {
   "cell_type": "code",
   "execution_count": 7,
   "metadata": {},
   "outputs": [
    {
     "name": "stderr",
     "output_type": "stream",
     "text": [
      "  0%|          | 0/1500 [00:00<?, ?it/s]/Volumes/Storage/goinfre/ptyshevs/env/lib/python3.7/site-packages/torch/nn/modules/container.py:92: UserWarning: Implicit dimension choice for softmax has been deprecated. Change the call to include dim=X as an argument.\n",
      "  input = module(input)\n",
      "100%|██████████| 1500/1500 [00:27<00:00, 54.24it/s]\n",
      "100%|██████████| 375/375 [00:02<00:00, 126.85it/s]\n",
      "  0%|          | 6/1500 [00:00<00:27, 55.17it/s]"
     ]
    },
    {
     "name": "stdout",
     "output_type": "stream",
     "text": [
      "val acc = 0.9362499713897705\n"
     ]
    },
    {
     "name": "stderr",
     "output_type": "stream",
     "text": [
      "100%|██████████| 1500/1500 [00:27<00:00, 54.93it/s]\n",
      "100%|██████████| 375/375 [00:02<00:00, 127.97it/s]\n",
      "  0%|          | 5/1500 [00:00<00:32, 46.21it/s]"
     ]
    },
    {
     "name": "stdout",
     "output_type": "stream",
     "text": [
      "val acc = 0.9521666765213013\n"
     ]
    },
    {
     "name": "stderr",
     "output_type": "stream",
     "text": [
      "100%|██████████| 1500/1500 [00:28<00:00, 52.47it/s]\n",
      "100%|██████████| 375/375 [00:02<00:00, 130.49it/s]"
     ]
    },
    {
     "name": "stdout",
     "output_type": "stream",
     "text": [
      "val acc = 0.952750027179718\n"
     ]
    },
    {
     "name": "stderr",
     "output_type": "stream",
     "text": [
      "\n"
     ]
    }
   ],
   "source": [
    "epochs = 3\n",
    "pt.manual_seed(42)\n",
    "for epoch in range(epochs):\n",
    "    for Xt, yt in tqdm.tqdm(train_loader):\n",
    "        optim.zero_grad()\n",
    "        yp = model.predict(Xt)\n",
    "        L = loss(yp, yt)\n",
    "        L.backward()\n",
    "        optim.step()\n",
    "    \n",
    "    with pt.no_grad():\n",
    "        predictions = []\n",
    "        for Xt, yt in tqdm.tqdm(test_loader):\n",
    "            y_pred = model.predict(Xt)\n",
    "            predictions.append(y_pred.argmax(axis=1))\n",
    "        test_predictions = pt.cat(predictions)\n",
    "        accuracy = (test_predictions == y_test).sum().float() / len(y_test)\n",
    "        print(f'val acc = {accuracy}')\n",
    "    "
   ]
  },
  {
   "cell_type": "code",
   "execution_count": 52,
   "metadata": {},
   "outputs": [],
   "source": [
    "def show_digits(images):\n",
    "    top_4 = images[:4]\n",
    "    pred = model.predict(top_4)\n",
    "    labels = pred.argmax(axis=1)\n",
    "    f, ax = plt.subplots(2, 2, figsize=(10, 10))\n",
    "    ax[0, 0].imshow(top_4[0].squeeze(), cmap=plt.cm.Greys_r)\n",
    "    ax[0, 0].set_title(f'Predicted class: {labels[0]}')\n",
    "    ax[0, 0].axis('off')\n",
    "    \n",
    "    ax[0, 1].imshow(top_4[1].squeeze(), cmap=plt.cm.Greys_r)\n",
    "    ax[0, 1].set_title(f'Predicted class: {labels[1]}')\n",
    "    ax[0, 1].axis('off')\n",
    "    \n",
    "    ax[1, 0].imshow(top_4[2].squeeze(), cmap=plt.cm.Greys_r)\n",
    "    ax[1, 0].set_title(f'Predicted class: {labels[2]}')\n",
    "    ax[1, 0].axis('off')\n",
    "    \n",
    "    ax[1, 1].imshow(top_4[3].squeeze(), cmap=plt.cm.Greys_r)\n",
    "    ax[1, 1].set_title(f'Predicted class: {labels[3]}')\n",
    "    ax[1, 1].axis('off')\n",
    "    return f"
   ]
  },
  {
   "cell_type": "code",
   "execution_count": 54,
   "metadata": {},
   "outputs": [
    {
     "name": "stderr",
     "output_type": "stream",
     "text": [
      "/Volumes/Storage/goinfre/ptyshevs/env/lib/python3.7/site-packages/torch/nn/modules/container.py:92: UserWarning: Implicit dimension choice for softmax has been deprecated. Change the call to include dim=X as an argument.\n",
      "  input = module(input)\n"
     ]
    }
   ],
   "source": [
    "top_n = 3\n",
    "figure = show_digits(X_test)\n",
    "plt.savefig('CNN_predictions.png', bbox_inches='tight')\n",
    "plt.close(figure)"
   ]
  },
  {
   "cell_type": "code",
   "execution_count": 56,
   "metadata": {},
   "outputs": [],
   "source": [
    "adv_target = 7"
   ]
  },
  {
   "cell_type": "code",
   "execution_count": 57,
   "metadata": {},
   "outputs": [],
   "source": [
    "def fitness_class_probability(X):\n",
    "    \"\"\" Maximize probability of adversarial target class\"\"\"\n",
    "    y = model.predict(pt.Tensor(X).unsqueeze(1)).detach().numpy()\n",
    "    y_target = y[:, adv_target]\n",
    "    return y_target"
   ]
  },
  {
   "cell_type": "code",
   "execution_count": 83,
   "metadata": {},
   "outputs": [],
   "source": [
    "m = ImageGeneticSolver(image_size=image_size, population_size=200, verbosity=True, warm_start=True, patience=200)"
   ]
  },
  {
   "cell_type": "code",
   "execution_count": 84,
   "metadata": {},
   "outputs": [
    {
     "name": "stdout",
     "output_type": "stream",
     "text": [
      "Generation #: best score\n",
      "Generation  50 :  6.021825e-08\n",
      "Generation  100 :  1.7512276e-06\n",
      "Generation  150 :  0.00024197323\n",
      "Generation  200 :  0.0071339086\n",
      "Generation  250 :  0.06444163\n",
      "Generation  300 :  0.28171912\n",
      "Generation  350 :  0.5730769\n",
      "Generation  400 :  0.8383798\n",
      "Generation  450 :  0.9269765\n",
      "Generation  500 :  0.9708846\n",
      "Generation  550 :  0.98166394\n",
      "Generation  600 :  0.9894404\n",
      "Generation  650 :  0.99294335\n",
      "Generation  700 :  0.9953406\n",
      "Generation  750 :  0.9963445\n",
      "Generation  800 :  0.9969394\n",
      "Generation  850 :  0.9972562\n",
      "Generation  900 :  0.99753237\n",
      "Generation  950 :  0.99777156\n",
      "Generation  1000 :  0.997934\n",
      "Generation  1050 :  0.9980102\n",
      "Generation  1100 :  0.9980604\n",
      "Generation  1150 :  0.99809104\n",
      "Generation  1200 :  0.99810034\n",
      "Generation  1250 :  0.9981034\n",
      "Generation  1300 :  0.99810433\n",
      "Generation  1350 :  0.9981046\n",
      "Generation  1400 :  0.9981046\n",
      "Early stopping on generation  1438  with best score  0.9981046\n"
     ]
    }
   ],
   "source": [
    "res, score = m.solve(fitness_class_probability, n_generations=2000, verbose_step=50, write_images=True, image_prefix='7_max/')"
   ]
  },
  {
   "cell_type": "code",
   "execution_count": 97,
   "metadata": {},
   "outputs": [],
   "source": [
    "def dir_to_gif(dirname, duration=.3):\n",
    "    images = []\n",
    "    for fname in os.listdir(dirname):\n",
    "        if fname.endswith('png'):\n",
    "            images.append(imageio.imread(f'{dirname}/{fname}'))\n",
    "    imageio.mimsave(f'{dirname}.gif', images, duration=duration)\n",
    "dir_to_gif('7_max')"
   ]
  },
  {
   "cell_type": "code",
   "execution_count": 100,
   "metadata": {},
   "outputs": [],
   "source": [
    "def visualize(adversary_example, adversary_score):\n",
    "    y_pred = model.predict(pt.Tensor(adversary_example).unsqueeze(0).unsqueeze(1))\n",
    "    assert np.isclose(y_pred.sum().item(), 1)\n",
    "    target_prob = y_pred[0][adv_target].item()\n",
    "    plt.figure(figsize=(6, 6))\n",
    "    plt.imshow(adversary_example, cmap=plt.cm.Greys_r);\n",
    "    plt.axis('off')\n",
    "    plt.title(f\"P(X={adv_target})={target_prob:.4f}|Fitness={adversary_score:.4f}\");"
   ]
  },
  {
   "cell_type": "code",
   "execution_count": 101,
   "metadata": {},
   "outputs": [
    {
     "name": "stderr",
     "output_type": "stream",
     "text": [
      "/Volumes/Storage/goinfre/ptyshevs/env/lib/python3.7/site-packages/torch/nn/modules/container.py:92: UserWarning: Implicit dimension choice for softmax has been deprecated. Change the call to include dim=X as an argument.\n",
      "  input = module(input)\n"
     ]
    },
    {
     "data": {
      "image/png": "[encoded data removed]",
      "text/plain": [
       "<Figure size 432x432 with 1 Axes>"
      ]
     },
     "metadata": {
      "needs_background": "light"
     },
     "output_type": "display_data"
    }
   ],
   "source": [
    "visualize(res, score)"
   ]
  },
  {
   "cell_type": "code",
   "execution_count": 103,
   "metadata": {},
   "outputs": [],
   "source": [
    "def fitness_class_probability_empty(X):\n",
    "    \"\"\" Maximize probability of adversarial target class, penalizing mean pixel intensity\"\"\"\n",
    "    y = model.predict(pt.Tensor(X).unsqueeze(1)).detach().numpy()\n",
    "    y_target = y[:, adv_target]\n",
    "    X_mean = X.mean(axis=1).mean(axis=1)\n",
    "    return y_target - X_mean"
   ]
  },
  {
   "cell_type": "code",
   "execution_count": 112,
   "metadata": {},
   "outputs": [
    {
     "name": "stderr",
     "output_type": "stream",
     "text": [
      "/Volumes/Storage/goinfre/ptyshevs/env/lib/python3.7/site-packages/torch/nn/modules/container.py:92: UserWarning: Implicit dimension choice for softmax has been deprecated. Change the call to include dim=X as an argument.\n",
      "  input = module(input)\n"
     ]
    },
    {
     "name": "stdout",
     "output_type": "stream",
     "text": [
      "Generation #: best score\n",
      "Generation  50 :  -0.39562977889528644\n",
      "Generation  100 :  -0.32517703600917974\n",
      "Generation  150 :  0.08650783502314241\n",
      "Generation  200 :  0.31419908740286534\n",
      "Generation  250 :  0.744888576454863\n",
      "Generation  300 :  0.7839582794924379\n",
      "Generation  350 :  0.8163550631423578\n",
      "Generation  400 :  0.8414615312636482\n",
      "Generation  450 :  0.863516835451301\n",
      "Generation  500 :  0.8821114498932118\n",
      "Generation  550 :  0.8958721560637434\n",
      "Generation  600 :  0.9082315137407885\n",
      "Generation  650 :  0.9189622519053263\n",
      "Generation  700 :  0.927881802144031\n",
      "Generation  750 :  0.9343580614722425\n",
      "Generation  800 :  0.9403072346764345\n",
      "Generation  850 :  0.9445057865340766\n",
      "Generation  900 :  0.94774576040627\n",
      "Generation  950 :  0.9501684147645453\n",
      "Generation  1000 :  0.9521758718573802\n",
      "Generation  1050 :  0.9531401285130504\n",
      "Generation  1100 :  0.9535712573795455\n",
      "Generation  1150 :  0.9536292508449487\n",
      "Generation  1200 :  0.9543533028610708\n",
      "Generation  1250 :  0.954661903626102\n",
      "Generation  1300 :  0.9546726475533258\n",
      "Generation  1350 :  0.9546726475533258\n",
      "Generation  1400 :  0.9546726475533258\n",
      "Generation  1450 :  0.9546726475533258\n",
      "Generation  1500 :  0.9549662522652312\n",
      "Generation  1550 :  0.9551309189120039\n",
      "Generation  1600 :  0.9551309189120039\n",
      "Generation  1650 :  0.9551309189120039\n",
      "Generation  1700 :  0.9551309189120039\n",
      "Generation  1750 :  0.9551309189120039\n",
      "Generation  1800 :  0.9551309189120039\n",
      "Early stopping on generation  1826  with best score  0.9551309189120039\n"
     ]
    }
   ],
   "source": [
    "adv_target = 5\n",
    "m = ImageGeneticSolver(image_size=image_size, verbosity=True, population_size=300, verbose_step=100, warm_start=True, patience=300, random_state=42)\n",
    "res, score = m.solve(fitness_class_probability_empty, n_generations=5000, verbose_step=50, write_images=True, image_prefix='5_max_empty/')"
   ]
  },
  {
   "cell_type": "code",
   "execution_count": 116,
   "metadata": {},
   "outputs": [],
   "source": [
    "dir_to_gif('5_max_empty', duration=.1)"
   ]
  },
  {
   "cell_type": "code",
   "execution_count": 114,
   "metadata": {},
   "outputs": [
    {
     "data": {
      "text/plain": [
       "0.0433942833623187"
      ]
     },
     "execution_count": 114,
     "metadata": {},
     "output_type": "execute_result"
    }
   ],
   "source": [
    "res.mean()"
   ]
  },
  {
   "cell_type": "code",
   "execution_count": 115,
   "metadata": {},
   "outputs": [
    {
     "data": {
      "image/png": "[encoded data removed]",
      "text/plain": [
       "<Figure size 432x432 with 1 Axes>"
      ]
     },
     "metadata": {
      "needs_background": "light"
     },
     "output_type": "display_data"
    }
   ],
   "source": [
    "visualize(res, score)"
   ]
  },
  {
   "cell_type": "code",
   "execution_count": 119,
   "metadata": {},
   "outputs": [
    {
     "name": "stdout",
     "output_type": "stream",
     "text": [
      "Generation #: best score\n",
      "Generation  700 :  0.8100469314450032\n",
      "Generation  1400 :  0.8767762963227459\n",
      "Generation  2100 :  0.9019891509684078\n",
      "Generation  2800 :  0.9116790787245544\n",
      "Generation  3500 :  0.9183711626685269\n",
      "Generation  4200 :  0.9232360799480105\n",
      "Generation  4900 :  0.9259910948011922\n",
      "Generation  5600 :  0.928072632081943\n",
      "Generation  6300 :  0.929520465703687\n",
      "Generation  6999 :  0.932954514417909\n"
     ]
    },
    {
     "data": {
      "image/png": "[encoded data removed]",
      "text/plain": [
       "<Figure size 432x432 with 1 Axes>"
      ]
     },
     "metadata": {
      "needs_background": "light"
     },
     "output_type": "display_data"
    }
   ],
   "source": [
    "adv_target = 5\n",
    "m = GeneticSolver(image_size=image_size, verbosity=True, verbosity_step=100, warm_start=True, random_state=42, early_stopping=False)\n",
    "res, score = m.solve(fitness_class_probability_empty, n_generations=7000, verbose_step=700)\n",
    "visualize(res, score)"
   ]
  },
  {
   "cell_type": "code",
   "execution_count": 126,
   "metadata": {},
   "outputs": [],
   "source": [
    "def fitness_similarity(X):\n",
    "    \"\"\" Maximize adv_target probability s.t. MSE from adv_sample \"\"\"\n",
    "    y = model.predict(pt.Tensor(X).unsqueeze(1)).detach().numpy()\n",
    "    y_target = y[:, adv_target]\n",
    "    mse = np.sqrt(np.power(X - adv_sample, 2).mean(axis=1).mean(axis=1))\n",
    "    return y_target - mse"
   ]
  },
  {
   "cell_type": "code",
   "execution_count": 132,
   "metadata": {},
   "outputs": [
    {
     "data": {
      "image/png": "[encoded data removed]",
      "text/plain": [
       "<Figure size 432x432 with 1 Axes>"
      ]
     },
     "metadata": {
      "needs_background": "light"
     },
     "output_type": "display_data"
    }
   ],
   "source": [
    "adv_sample = X_test[9].numpy()\n",
    "plt.figure(figsize=(6, 6));\n",
    "plt.imshow(adv_sample.squeeze(), cmap=plt.cm.Greys_r);\n",
    "plt.axis('off');\n",
    "plt.title(\"Adversarial sample\");\n",
    "plt.savefig('adv_sample.png', bbox_inches='tight');"
   ]
  },
  {
   "cell_type": "code",
   "execution_count": 128,
   "metadata": {},
   "outputs": [
    {
     "name": "stderr",
     "output_type": "stream",
     "text": [
      "/Volumes/Storage/goinfre/ptyshevs/env/lib/python3.7/site-packages/torch/nn/modules/container.py:92: UserWarning: Implicit dimension choice for softmax has been deprecated. Change the call to include dim=X as an argument.\n",
      "  input = module(input)\n"
     ]
    },
    {
     "name": "stdout",
     "output_type": "stream",
     "text": [
      "Generation #: best score\n",
      "Generation  50 :  0.48978839766618276\n",
      "Generation  100 :  0.5568179382735332\n",
      "Generation  150 :  0.6194630448409415\n",
      "Generation  200 :  0.6701971282784307\n",
      "Generation  250 :  0.7104020962845162\n",
      "Generation  300 :  0.739995460330581\n",
      "Generation  350 :  0.7708480512505271\n",
      "Generation  400 :  0.7896278388253464\n",
      "Generation  450 :  0.8053652250394125\n",
      "Generation  500 :  0.8191702391486093\n",
      "Generation  550 :  0.8328648211973304\n",
      "Generation  600 :  0.8425323266375198\n",
      "Generation  650 :  0.851584922113141\n",
      "Generation  700 :  0.8590774778215147\n",
      "Generation  750 :  0.8651480409666457\n",
      "Generation  800 :  0.8718886457116168\n",
      "Generation  850 :  0.8763458523617671\n",
      "Generation  900 :  0.8806297519758512\n",
      "Generation  950 :  0.8837580181781973\n",
      "Generation  1000 :  0.8861626119284192\n",
      "Generation  1050 :  0.8879217874367072\n",
      "Generation  1100 :  0.889424981269299\n",
      "Generation  1150 :  0.8909432938304344\n",
      "Generation  1200 :  0.8916602097682603\n",
      "Generation  1250 :  0.8927417775052152\n",
      "Generation  1300 :  0.8936936230093653\n",
      "Generation  1350 :  0.8939972164330534\n",
      "Generation  1400 :  0.8945952584492843\n",
      "Generation  1450 :  0.8951163530016121\n",
      "Generation  1500 :  0.8959647094820523\n",
      "Generation  1550 :  0.8961217064130103\n",
      "Generation  1600 :  0.8961369512952164\n",
      "Generation  1650 :  0.8961370084528848\n",
      "Generation  1700 :  0.8961370084528848\n",
      "Generation  1750 :  0.8961370084528848\n",
      "Generation  1800 :  0.8961370084528848\n",
      "Generation  1850 :  0.8961370084528848\n",
      "Generation  1900 :  0.8962195513819183\n",
      "Generation  1950 :  0.89642689117125\n",
      "Generation  2000 :  0.8964284732360787\n",
      "Generation  2050 :  0.8970813365120389\n",
      "Generation  2100 :  0.8971235252380114\n",
      "Generation  2150 :  0.8971235252380114\n",
      "Generation  2200 :  0.8971235252380114\n",
      "Generation  2250 :  0.8971235252380114\n",
      "Generation  2300 :  0.8974135015119612\n",
      "Generation  2350 :  0.8975563322320348\n",
      "Generation  2400 :  0.8975564734662608\n",
      "Generation  2450 :  0.8975564734662608\n",
      "Generation  2500 :  0.8979337169099848\n",
      "Generation  2550 :  0.8980058450624437\n",
      "Generation  2600 :  0.8983776232582626\n",
      "Generation  2650 :  0.8984504650886505\n",
      "Generation  2700 :  0.8984504650886505\n",
      "Generation  2750 :  0.8984504650886505\n",
      "Generation  2800 :  0.8985989865649301\n",
      "Generation  2850 :  0.8990525262416251\n",
      "Generation  2900 :  0.8991076697993348\n",
      "Generation  2950 :  0.8991077864427635\n",
      "Generation  3000 :  0.8991077864427635\n",
      "Generation  3050 :  0.8991077864427635\n",
      "Generation  3100 :  0.8991077864427635\n",
      "Generation  3150 :  0.8991077864427635\n",
      "Early stopping on generation  3191  with best score  0.8991077864427635\n"
     ]
    },
    {
     "data": {
      "image/png": "[encoded data removed]",
      "text/plain": [
       "<Figure size 432x432 with 1 Axes>"
      ]
     },
     "metadata": {
      "needs_background": "light"
     },
     "output_type": "display_data"
    }
   ],
   "source": [
    "adv_target = 2\n",
    "m = ImageGeneticSolver(image_size=image_size, population_size=300, verbosity=True, patience=300,\n",
    "                  verbose_step=100, warm_start=True, random_state=42)\n",
    "res, score = m.solve(fitness_similarity, n_generations=5000, verbose_step=50, write_images=True, image_prefix='4_to_2/')\n",
    "visualize(res, score)"
   ]
  },
  {
   "cell_type": "code",
   "execution_count": 129,
   "metadata": {},
   "outputs": [],
   "source": [
    "dir_to_gif('4_to_2', duration=.1)"
   ]
  }
 ],
 "metadata": {
  "kernelspec": {
   "display_name": "Python 3",
   "language": "python",
   "name": "python3"
  },
  "language_info": {
   "codemirror_mode": {
    "name": "ipython",
    "version": 3
   },
   "file_extension": ".py",
   "mimetype": "text/x-python",
   "name": "python",
   "nbconvert_exporter": "python",
   "pygments_lexer": "ipython3",
   "version": "3.7.4"
  }
 },
 "nbformat": 4,
 "nbformat_minor": 4
}
