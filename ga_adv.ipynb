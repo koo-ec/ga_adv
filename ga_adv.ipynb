{
 "cells": [
  {
   "cell_type": "code",
   "execution_count": 1,
   "metadata": {},
   "outputs": [],
   "source": [
    "import torch as pt\n",
    "import torchvision as tv\n",
    "import os\n",
    "import numpy as np\n",
    "import tqdm\n",
    "import matplotlib.pyplot as plt\n",
    "from sklearn.model_selection import train_test_split\n",
    "from GeneticSolver import *"
   ]
  },
  {
   "cell_type": "code",
   "execution_count": 37,
   "metadata": {},
   "outputs": [],
   "source": [
    "data = np.load('full_mnist.npz')\n",
    "X, y = data['X'], data['y']\n",
    "X_train, X_test, y_train, y_test = train_test_split(X / 255., y, test_size=.2, random_state=42)"
   ]
  },
  {
   "cell_type": "code",
   "execution_count": 38,
   "metadata": {},
   "outputs": [],
   "source": [
    "image_size = X[0].shape"
   ]
  },
  {
   "cell_type": "code",
   "execution_count": 39,
   "metadata": {},
   "outputs": [
    {
     "data": {
      "image/png": "[encoded data removed]",
      "text/plain": [
       "<Figure size 432x288 with 1 Axes>"
      ]
     },
     "metadata": {
      "needs_background": "light"
     },
     "output_type": "display_data"
    }
   ],
   "source": [
    "plt.imshow(X[0]);"
   ]
  },
  {
   "cell_type": "code",
   "execution_count": 40,
   "metadata": {},
   "outputs": [],
   "source": [
    "class CNN(pt.nn.Module):\n",
    "    def __init__(self):\n",
    "        super().__init__()\n",
    "        self.model = pt.nn.Sequential(\n",
    "        pt.nn.Conv2d(1, 30, 3),\n",
    "        pt.nn.MaxPool2d(2),\n",
    "        pt.nn.ReLU(),\n",
    "        pt.nn.Conv2d(30, 30, 3),\n",
    "        pt.nn.MaxPool2d(2),\n",
    "        pt.nn.ReLU(),\n",
    "        pt.nn.Conv2d(30, 15, 3),\n",
    "        pt.nn.MaxPool2d(2),\n",
    "        pt.nn.ReLU(),\n",
    "        pt.nn.Flatten(),\n",
    "        pt.nn.Linear(15, 64),\n",
    "        pt.nn.ReLU(),\n",
    "        pt.nn.Linear(64, 10),\n",
    "        pt.nn.Softmax(dim=1)\n",
    "        )\n",
    "    \n",
    "    def predict(self, X):\n",
    "        return self.model(X)\n",
    "\n",
    "\n",
    "model = CNN()\n",
    "optim = pt.optim.Adam(model.parameters())\n",
    "loss = pt.nn.CrossEntropyLoss()"
   ]
  },
  {
   "cell_type": "code",
   "execution_count": 41,
   "metadata": {},
   "outputs": [],
   "source": [
    "X_train = pt.Tensor(X_train).unsqueeze(1)\n",
    "y_train = pt.Tensor(y_train).long()\n",
    "X_test = pt.Tensor(X_test).unsqueeze(1)\n",
    "y_test = pt.Tensor(y_test).long()\n",
    "train_loader = pt.utils.data.DataLoader(pt.utils.data.TensorDataset(X_train, y_train), batch_size=32)\n",
    "test_loader = pt.utils.data.DataLoader(pt.utils.data.TensorDataset(X_test, y_test), batch_size=32)"
   ]
  },
  {
   "cell_type": "code",
   "execution_count": 42,
   "metadata": {},
   "outputs": [
    {
     "name": "stderr",
     "output_type": "stream",
     "text": [
      "100%|██████████| 1500/1500 [00:29<00:00, 50.59it/s]\n",
      "100%|██████████| 375/375 [00:02<00:00, 164.12it/s]"
     ]
    },
    {
     "name": "stdout",
     "output_type": "stream",
     "text": [
      "val acc = 0.8229166865348816\n"
     ]
    },
    {
     "name": "stderr",
     "output_type": "stream",
     "text": [
      "\n"
     ]
    }
   ],
   "source": [
    "epochs = 1\n",
    "pt.manual_seed(42)\n",
    "for epoch in range(epochs):\n",
    "    for Xt, yt in tqdm.tqdm(train_loader):\n",
    "        optim.zero_grad()\n",
    "        yp = model.predict(Xt)\n",
    "        L = loss(yp, yt)\n",
    "        L.backward()\n",
    "        optim.step()\n",
    "    \n",
    "    with pt.no_grad():\n",
    "        predictions = []\n",
    "        for Xt, yt in tqdm.tqdm(test_loader):\n",
    "            y_pred = model.predict(Xt)\n",
    "            predictions.append(y_pred.argmax(axis=1))\n",
    "        test_predictions = pt.cat(predictions)\n",
    "        accuracy = (test_predictions == y_test).sum().float() / len(y_test)\n",
    "        print(f'val acc = {accuracy}')\n",
    "    "
   ]
  },
  {
   "cell_type": "code",
   "execution_count": 43,
   "metadata": {},
   "outputs": [
    {
     "data": {
      "image/png": "[encoded data removed]",
      "text/plain": [
       "<Figure size 432x288 with 1 Axes>"
      ]
     },
     "metadata": {
      "needs_background": "light"
     },
     "output_type": "display_data"
    },
    {
     "data": {
      "image/png": "[encoded data removed]",
      "text/plain": [
       "<Figure size 432x288 with 1 Axes>"
      ]
     },
     "metadata": {
      "needs_background": "light"
     },
     "output_type": "display_data"
    },
    {
     "data": {
      "image/png": "[encoded data removed]",
      "text/plain": [
       "<Figure size 432x288 with 1 Axes>"
      ]
     },
     "metadata": {
      "needs_background": "light"
     },
     "output_type": "display_data"
    }
   ],
   "source": [
    "top_n = 3\n",
    "first_n_pred = model.predict(X_test[:top_n]).argmax(axis=1)\n",
    "for i in range(top_n):\n",
    "    x = X_test[i].squeeze()\n",
    "    plt.imshow(x)\n",
    "    plt.title(f'Predicted class: {first_n_pred[i]}');\n",
    "    plt.show()"
   ]
  },
  {
   "cell_type": "code",
   "execution_count": 97,
   "metadata": {},
   "outputs": [],
   "source": [
    "adv_target = 0"
   ]
  },
  {
   "cell_type": "code",
   "execution_count": 98,
   "metadata": {},
   "outputs": [],
   "source": [
    "def fitness_class_probability(X):\n",
    "    \"\"\" Maximize probability of adversarial target class\"\"\"\n",
    "    y = model.predict(pt.Tensor(X).unsqueeze(1)).detach().numpy()\n",
    "    y_mean = y[:, adv_target]\n",
    "    return y_mean"
   ]
  },
  {
   "cell_type": "code",
   "execution_count": 99,
   "metadata": {},
   "outputs": [],
   "source": [
    "m = GeneticSolver(image_size=image_size, verbosity=True, warm_start=True)"
   ]
  },
  {
   "cell_type": "code",
   "execution_count": 100,
   "metadata": {},
   "outputs": [
    {
     "name": "stdout",
     "output_type": "stream",
     "text": [
      "Generation #: best score\n",
      "Early stopping on generation  127  with best score  0.9999937\n"
     ]
    }
   ],
   "source": [
    "res, score = m.solve(fitness_class_probability, n_generations=1000, verbose_step=250)"
   ]
  },
  {
   "cell_type": "code",
   "execution_count": 101,
   "metadata": {},
   "outputs": [],
   "source": [
    "def visualize(adversary_example, adversary_score):\n",
    "    y_pred = model.predict(pt.Tensor(adversary_example).unsqueeze(0).unsqueeze(1))\n",
    "    assert np.isclose(y_pred.sum().item(), 1)\n",
    "    target_prob = y_pred[0][adv_target].item()\n",
    "    plt.figure(figsize=(6, 6))\n",
    "    plt.imshow(adversary_example, cmap=plt.cm.Greys_r);\n",
    "    plt.axis('off')\n",
    "    plt.title(f\"P(X={adv_target})={target_prob:.4f}|Fitness={adversary_score:.4f}\");"
   ]
  },
  {
   "cell_type": "code",
   "execution_count": 102,
   "metadata": {},
   "outputs": [
    {
     "data": {
      "image/png": "[encoded data removed]",
      "text/plain": [
       "<Figure size 432x432 with 1 Axes>"
      ]
     },
     "metadata": {
      "needs_background": "light"
     },
     "output_type": "display_data"
    }
   ],
   "source": [
    "visualize(res, score)"
   ]
  },
  {
   "cell_type": "code",
   "execution_count": 111,
   "metadata": {},
   "outputs": [],
   "source": [
    "def fitness_class_probability_empty(X):\n",
    "    \"\"\" Maximize probability of adversarial target class, penalizing mean pixel intensity\"\"\"\n",
    "    y = model.predict(pt.Tensor(X).unsqueeze(1)).detach().numpy()\n",
    "    y_target = y[:, adv_target]\n",
    "    X_mean = X.mean(axis=1).mean(axis=1)\n",
    "    return y_target - X_mean"
   ]
  },
  {
   "cell_type": "code",
   "execution_count": 115,
   "metadata": {},
   "outputs": [
    {
     "name": "stdout",
     "output_type": "stream",
     "text": [
      "Generation #: best score\n",
      "Generation  500 :  0.7664117446091117\n",
      "Generation  1000 :  0.8526554294640023\n",
      "Generation  1500 :  0.8899553743586278\n",
      "Generation  2000 :  0.8994700041498872\n",
      "Generation  2500 :  0.9108933366718494\n",
      "Generation  3000 :  0.9187642786479883\n",
      "Generation  3500 :  0.9217812693428462\n",
      "Early stopping on generation  3643  with best score  0.9217812693428462\n"
     ]
    }
   ],
   "source": [
    "m = GeneticSolver(image_size=image_size, verbosity=True, verbosity_step=100, warm_start=True, patience=200)\n",
    "res, score = m.solve(fitness_class_probability_empty, n_generations=5000, verbose_step=500)"
   ]
  },
  {
   "cell_type": "code",
   "execution_count": 116,
   "metadata": {},
   "outputs": [
    {
     "data": {
      "text/plain": [
       "0.07682815429454398"
      ]
     },
     "execution_count": 116,
     "metadata": {},
     "output_type": "execute_result"
    }
   ],
   "source": [
    "res.mean()"
   ]
  },
  {
   "cell_type": "code",
   "execution_count": 117,
   "metadata": {},
   "outputs": [
    {
     "data": {
      "image/png": "[encoded data removed]",
      "text/plain": [
       "<Figure size 432x432 with 1 Axes>"
      ]
     },
     "metadata": {
      "needs_background": "light"
     },
     "output_type": "display_data"
    }
   ],
   "source": [
    "visualize(res, score)"
   ]
  },
  {
   "cell_type": "code",
   "execution_count": 119,
   "metadata": {},
   "outputs": [
    {
     "name": "stdout",
     "output_type": "stream",
     "text": [
      "Generation #: best score\n",
      "Generation  700 :  0.8100469314450032\n",
      "Generation  1400 :  0.8767762963227459\n",
      "Generation  2100 :  0.9019891509684078\n",
      "Generation  2800 :  0.9116790787245544\n",
      "Generation  3500 :  0.9183711626685269\n",
      "Generation  4200 :  0.9232360799480105\n",
      "Generation  4900 :  0.9259910948011922\n",
      "Generation  5600 :  0.928072632081943\n",
      "Generation  6300 :  0.929520465703687\n",
      "Generation  6999 :  0.932954514417909\n"
     ]
    },
    {
     "data": {
      "image/png": "[encoded data removed]",
      "text/plain": [
       "<Figure size 432x432 with 1 Axes>"
      ]
     },
     "metadata": {
      "needs_background": "light"
     },
     "output_type": "display_data"
    }
   ],
   "source": [
    "adv_target = 5\n",
    "m = GeneticSolver(image_size=image_size, verbosity=True, verbosity_step=100, warm_start=True, random_state=42, early_stopping=False)\n",
    "res, score = m.solve(fitness_class_probability_empty, n_generations=7000, verbose_step=700)\n",
    "visualize(res, score)"
   ]
  },
  {
   "cell_type": "code",
   "execution_count": 164,
   "metadata": {},
   "outputs": [],
   "source": [
    "def fitness_similarity(X):\n",
    "    \"\"\" X - np.array\"\"\"\n",
    "    y = model.predict(pt.Tensor(X).unsqueeze(1)).detach().numpy()\n",
    "    y_target = y[:, adv_target]\n",
    "#     mae = np.abs(X - adv_sample).mean(axis=1).mean(axis=1)\n",
    "    mse = np.power(X - adv_sample, 2).mean(axis=1).mean(axis=1) ** .5\n",
    "    return y_target - mse"
   ]
  },
  {
   "cell_type": "code",
   "execution_count": 169,
   "metadata": {},
   "outputs": [
    {
     "data": {
      "image/png": "[encoded data removed]",
      "text/plain": [
       "<Figure size 432x288 with 1 Axes>"
      ]
     },
     "metadata": {
      "needs_background": "light"
     },
     "output_type": "display_data"
    }
   ],
   "source": [
    "adv_sample = X_test[9].numpy()\n",
    "plt.imshow(adv_sample.squeeze());"
   ]
  },
  {
   "cell_type": "code",
   "execution_count": 171,
   "metadata": {},
   "outputs": [
    {
     "name": "stdout",
     "output_type": "stream",
     "text": [
      "Generation #: best score\n",
      "Generation  800 :  0.847113211167583\n",
      "Generation  1600 :  0.8701224157735055\n",
      "Generation  2400 :  0.8742161694304544\n",
      "Generation  3200 :  0.8779726747069615\n",
      "Generation  4000 :  0.8797027943944221\n",
      "Generation  4800 :  0.8809138632435551\n",
      "Generation  4999 :  0.8809138632435551\n"
     ]
    },
    {
     "data": {
      "image/png": "[encoded data removed]",
      "text/plain": [
       "<Figure size 432x432 with 1 Axes>"
      ]
     },
     "metadata": {
      "needs_background": "light"
     },
     "output_type": "display_data"
    }
   ],
   "source": [
    "adv_target = 8\n",
    "m = GeneticSolver(image_size=image_size, population_size=300, verbosity=True, verbosity_step=100, warm_start=True, random_state=42, early_stopping=False)\n",
    "res, score = m.solve(fitness_similarity, n_generations=5000, verbose_step=800)\n",
    "visualize(res, score)"
   ]
  },
  {
   "cell_type": "code",
   "execution_count": null,
   "metadata": {},
   "outputs": [],
   "source": []
  }
 ],
 "metadata": {
  "kernelspec": {
   "display_name": "Python 3",
   "language": "python",
   "name": "python3"
  },
  "language_info": {
   "codemirror_mode": {
    "name": "ipython",
    "version": 3
   },
   "file_extension": ".py",
   "mimetype": "text/x-python",
   "name": "python",
   "nbconvert_exporter": "python",
   "pygments_lexer": "ipython3",
   "version": "3.6.8"
  }
 },
 "nbformat": 4,
 "nbformat_minor": 4
}
